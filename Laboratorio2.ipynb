{
 "cells": [
  {
   "cell_type": "code",
   "execution_count": 1,
   "id": "218c091a",
   "metadata": {},
   "outputs": [
    {
     "data": {
      "text/plain": [
       "str"
      ]
     },
     "execution_count": 1,
     "metadata": {},
     "output_type": "execute_result"
    }
   ],
   "source": [
    "# String\n",
    "x = 'bien'\n",
    "y= 'genial'\n",
    "z= 'cool'\n",
    "\n",
    "type(x)"
   ]
  },
  {
   "cell_type": "code",
   "execution_count": 3,
   "id": "0ecd28c3",
   "metadata": {},
   "outputs": [
    {
     "name": "stdout",
     "output_type": "stream",
     "text": [
      "El actor de Shazam ha discutido con La Roca por las escenas postcredito de Shazam 2\n"
     ]
    }
   ],
   "source": [
    "# concatenacion\n",
    "\n",
    "x = 'El actor de Shazam ha discutido' + ' ' + 'con La Roca por las escenas postcredito' + ' ' + 'de Shazam 2'\n",
    "# print() con print tambien se puede realizar\n",
    "\n",
    "print(x)\n"
   ]
  },
  {
   "cell_type": "code",
   "execution_count": 4,
   "id": "06f9a780",
   "metadata": {},
   "outputs": [
    {
     "name": "stdout",
     "output_type": "stream",
     "text": [
      "La u gano el sabado Alianza perdio el domingo\n",
      "4/2 =  2.0\n"
     ]
    }
   ],
   "source": [
    "# concatenacion \n",
    "print ('La u gano el sabado', 'Alianza perdio el domingo')\n",
    "\n",
    "# diferentes tipos de datos\n",
    "print ('4/2 = ', 4/2)\n",
    "\n",
    "\n",
    "\n"
   ]
  },
  {
   "cell_type": "code",
   "execution_count": 6,
   "id": "e1a95018",
   "metadata": {},
   "outputs": [
    {
     "name": "stdout",
     "output_type": "stream",
     "text": [
      "La u gano el sabado Alianza perdio el domingo\n"
     ]
    }
   ],
   "source": [
    "''' comentario\n",
    "en\n",
    "varias\n",
    "lineas\n",
    "'''\n",
    "print ('La u gano el sabado', 'Alianza perdio el domingo')"
   ]
  },
  {
   "cell_type": "code",
   "execution_count": 7,
   "id": "0d9bfc20",
   "metadata": {},
   "outputs": [
    {
     "name": "stdout",
     "output_type": "stream",
     "text": [
      "Cual es la ultima pelicula que has visto? Las ventajas de ser invisible\n"
     ]
    }
   ],
   "source": [
    "# Input\n",
    "\n",
    "peli = input ('Cual es la ultima pelicula que has visto?')"
   ]
  },
  {
   "cell_type": "code",
   "execution_count": 49,
   "id": "7125e597",
   "metadata": {},
   "outputs": [
    {
     "name": "stdout",
     "output_type": "stream",
     "text": [
      "Cual es la ultima pelicula que has visto?Las ventajas de ser invisible\n",
      "Que te parecio la pelicula?Peliculon\n",
      "La ultima pelicula que has visto es Las ventajas de ser invisible y tu opinion fue Peliculon\n",
      "La ultima pelicula que has visto es Las ventajas de ser invisible y tu opinion fue Peliculon\n"
     ]
    }
   ],
   "source": [
    " # Input\n",
    "peli = input ('Cual es la ultima pelicula que has visto?')\n",
    "opinion = input ('Que te parecio la pelicula?')\n",
    "\n",
    "x = 'La ultima pelicula que has visto es {} y tu opinion fue {}'.format(peli,opinion)\n",
    "y = f'La ultima pelicula que has visto es {peli} y tu opinion fue {opinion}'\n",
    "print (x)\n",
    "print (y)"
   ]
  },
  {
   "cell_type": "code",
   "execution_count": null,
   "id": "b3e37cea",
   "metadata": {},
   "outputs": [],
   "source": [
    "# EJERCICIO DE INPUT"
   ]
  },
  {
   "cell_type": "code",
   "execution_count": 11,
   "id": "bcb54705",
   "metadata": {},
   "outputs": [
    {
     "name": "stdout",
     "output_type": "stream",
     "text": [
      "2+2=4\n",
      "Acertaste\n"
     ]
    }
   ],
   "source": [
    "# CONDICIONALES: inicia con IF\n",
    "# CALCULAR 2+2\n",
    "x= int(input('2+2='))\n",
    "\n",
    "if x != 4:\n",
    "    print ('Intenta nuevamente')\n",
    "else:\n",
    "    print ('Acertaste')\n",
    "    \n",
    "    \n",
    "type(x)\n",
    "\n",
    "'''\n",
    "Para convertir int se pone int()\n",
    "para convertir a float se pone float()\n",
    "para convertir a string se pone str()\n",
    "'''"
   ]
  },
  {
   "cell_type": "code",
   "execution_count": 23,
   "id": "57524154",
   "metadata": {},
   "outputs": [
    {
     "name": "stdout",
     "output_type": "stream",
     "text": [
      "Ingresa tu edad25\n",
      "En 5 años ya no seras del grupo veinteañero\n"
     ]
    }
   ],
   "source": [
    "# CONDICIONALES: MAS DE 1 \n",
    "# elif\n",
    "\n",
    "edad = int(input('Ingresa tu edad'))\n",
    "\n",
    "if edad < 30:\n",
    "    if edad == 29:\n",
    "        print (\"te falta poquito para los 30\")\n",
    "    print ('En',30-edad,'años ya no seras del grupo veinteañero')\n",
    "elif edad == 30:\n",
    "    print (\"Bienvenido a la base 3\")\n",
    "else:\n",
    "    print (\"No pareces de más de 30 años\")"
   ]
  },
  {
   "cell_type": "code",
   "execution_count": 34,
   "id": "ba84c287",
   "metadata": {},
   "outputs": [
    {
     "name": "stdout",
     "output_type": "stream",
     "text": [
      "['10', 10, 'the last of us', 'adidas', 'zapatillas']\n",
      "5\n",
      "10\n",
      "zapatillas\n",
      "['10', 10, 'the last of us', 'adidas', 'zapatillas', 'Peru vs Alemania']\n",
      "['10', 10, 'the last of us', 'adidas', 'Peru vs Alemania']\n",
      "False\n"
     ]
    }
   ],
   "source": [
    "# Listas\n",
    "\n",
    "lista1=['10',10,'the last of us','adidas','zapatillas']\n",
    "print (lista1)\n",
    "print(len(lista1)) # muestra el total de elementos de la lista\n",
    "print(lista1[1]) # muestra el segundo elemento de la lista\n",
    "print(lista1[4]) # muestra el quinto elemento de la lista\n",
    "\n",
    "lista1.append('Peru vs Alemania') # añade un elemento a la lista\n",
    "print (lista1)\n",
    "\n",
    "lista1.pop(4) # elimina el quinto elemento de la lista\n",
    "print(lista1)\n",
    "\n",
    "\n",
    "print ('malcom en el medio' in lista1) # verificar si ese elemento se encuentra en la lista"
   ]
  },
  {
   "cell_type": "code",
   "execution_count": 35,
   "id": "92d58104",
   "metadata": {},
   "outputs": [
    {
     "name": "stdout",
     "output_type": "stream",
     "text": [
      "0\n",
      "1\n",
      "2\n",
      "3\n",
      "4\n",
      "5\n",
      "6\n",
      "7\n",
      "8\n",
      "9\n"
     ]
    }
   ],
   "source": [
    "# Loops/Iteraciones\n",
    "\n",
    "for a in range(10):\n",
    "    print (a)\n",
    "    \n",
    "    "
   ]
  },
  {
   "cell_type": "code",
   "execution_count": 37,
   "id": "80a90001",
   "metadata": {},
   "outputs": [
    {
     "name": "stdout",
     "output_type": "stream",
     "text": [
      "0\n",
      "7\n",
      "14\n",
      "21\n",
      "28\n"
     ]
    }
   ],
   "source": [
    "# Crear un loop entre 0 y 29 que tenga una razon de 7\n",
    "for a in range(0,30,7):\n",
    "    print(a)\n"
   ]
  },
  {
   "cell_type": "code",
   "execution_count": 38,
   "id": "be2e1921",
   "metadata": {},
   "outputs": [
    {
     "name": "stdout",
     "output_type": "stream",
     "text": [
      "0\n",
      "7\n",
      "14\n",
      "21\n",
      "28\n"
     ]
    }
   ],
   "source": [
    "# Crear un loop entre 0 y 29 que tenga una razon de 7\n",
    "x=[]\n",
    "for a in range(0,30,7):\n",
    "    print(a)\n",
    "    x.append(a)\n",
    "    "
   ]
  },
  {
   "cell_type": "code",
   "execution_count": 39,
   "id": "5658ba43",
   "metadata": {},
   "outputs": [
    {
     "name": "stdout",
     "output_type": "stream",
     "text": [
      "[0, 7, 14, 21, 28]\n"
     ]
    }
   ],
   "source": [
    "print(x)"
   ]
  },
  {
   "cell_type": "code",
   "execution_count": 44,
   "id": "0ed2a1c1",
   "metadata": {},
   "outputs": [
    {
     "name": "stdout",
     "output_type": "stream",
     "text": [
      "Es un equipo de futbol\n",
      "Es un equipo de futbol\n",
      "Es un equipo de futbol\n",
      "No es un equipo de futbol\n",
      "No es un equipo de futbol\n",
      "Es un equipo de futbol\n"
     ]
    }
   ],
   "source": [
    "equipos = ['Alianza Lima','Cristal','Manchester United','Chicago Bulls', 'Toronto','Boys']\n",
    "\n",
    "for a in equipos:\n",
    "    if (a =='Chicago Bulls'):\n",
    "        print('No es un equipo de futbol')\n",
    "    elif a == 'Toronto':\n",
    "        print('No es un equipo de futbol')\n",
    "    else:\n",
    "        print ('Es un equipo de futbol')\n",
    "    "
   ]
  },
  {
   "cell_type": "code",
   "execution_count": null,
   "id": "7fff5e0f",
   "metadata": {},
   "outputs": [],
   "source": [
    "for a in equipos:\n",
    "    if ((a =='Chicago Bulls') | (a== 'Toronto')): # Se entiende como a es igual a Chicago o Toronto.\n",
    "        print('No es un equipo de futbol')\n",
    "    else:\n",
    "        print ('Es un equipo de futbol')"
   ]
  },
  {
   "cell_type": "code",
   "execution_count": 46,
   "id": "ca786d3d",
   "metadata": {},
   "outputs": [
    {
     "name": "stdout",
     "output_type": "stream",
     "text": [
      "x inicial se ha reducido a 20\n",
      "x inicial se ha reducido a 19\n",
      "x inicial se ha reducido a 18\n",
      "x inicial se ha reducido a 17\n",
      "x inicial se ha reducido a 16\n",
      "x inicial se ha reducido a 15\n",
      "x inicial se ha reducido a 14\n",
      "x inicial se ha reducido a 13\n",
      "x inicial se ha reducido a 12\n",
      "x inicial se ha reducido a 11\n",
      "x inicial se ha reducido a 10\n",
      "x inicial se ha reducido a 9\n",
      "x inicial se ha reducido a 8\n",
      "x inicial se ha reducido a 7\n",
      "x inicial se ha reducido a 6\n",
      "x inicial se ha reducido a 5\n",
      "x inicial se ha reducido a 4\n",
      "x inicial se ha reducido a 3\n",
      "x inicial se ha reducido a 2\n",
      "x inicial se ha reducido a 1\n"
     ]
    }
   ],
   "source": [
    "# While\n",
    "x = 20\n",
    "while x>0:\n",
    "    print ('x inicial se ha reducido a',x)\n",
    "    x=x-1"
   ]
  },
  {
   "cell_type": "code",
   "execution_count": 47,
   "id": "3cf365c5",
   "metadata": {},
   "outputs": [
    {
     "name": "stdout",
     "output_type": "stream",
     "text": [
      "0\n"
     ]
    }
   ],
   "source": [
    "print (x)"
   ]
  },
  {
   "cell_type": "code",
   "execution_count": 48,
   "id": "411e4b48",
   "metadata": {},
   "outputs": [
    {
     "name": "stdout",
     "output_type": "stream",
     "text": [
      "Help on built-in function print in module builtins:\n",
      "\n",
      "print(...)\n",
      "    print(value, ..., sep=' ', end='\\n', file=sys.stdout, flush=False)\n",
      "    \n",
      "    Prints the values to a stream, or to sys.stdout by default.\n",
      "    Optional keyword arguments:\n",
      "    file:  a file-like object (stream); defaults to the current sys.stdout.\n",
      "    sep:   string inserted between values, default a space.\n",
      "    end:   string appended after the last value, default a newline.\n",
      "    flush: whether to forcibly flush the stream.\n",
      "\n"
     ]
    }
   ],
   "source": [
    "help(print)"
   ]
  }
 ],
 "metadata": {
  "kernelspec": {
   "display_name": "Python 3 (ipykernel)",
   "language": "python",
   "name": "python3"
  },
  "language_info": {
   "codemirror_mode": {
    "name": "ipython",
    "version": 3
   },
   "file_extension": ".py",
   "mimetype": "text/x-python",
   "name": "python",
   "nbconvert_exporter": "python",
   "pygments_lexer": "ipython3",
   "version": "3.10.9"
  }
 },
 "nbformat": 4,
 "nbformat_minor": 5
}

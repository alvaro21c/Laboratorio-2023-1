{
  "nbformat": 4,
  "nbformat_minor": 0,
  "metadata": {
    "colab": {
      "provenance": []
    },
    "kernelspec": {
      "name": "python3",
      "display_name": "Python 3"
    },
    "language_info": {
      "name": "python"
    }
  },
  "cells": [
    {
      "cell_type": "code",
      "execution_count": 1,
      "metadata": {
        "colab": {
          "base_uri": "https://localhost:8080/",
          "height": 36
        },
        "id": "khwx-Yqp2Zlv",
        "outputId": "14260381-305e-4fe3-953b-9967a3868e0a"
      },
      "outputs": [
        {
          "output_type": "execute_result",
          "data": {
            "text/plain": [
              "'El día sábado ganó la U'"
            ],
            "application/vnd.google.colaboratory.intrinsic+json": {
              "type": "string"
            }
          },
          "metadata": {},
          "execution_count": 1
        }
      ],
      "source": [
        "\"El día sábado ganó la U\" "
      ]
    },
    {
      "cell_type": "code",
      "source": [
        "print (\"El día sábado ganó la U\")\n",
        "print(\"2+2\")"
      ],
      "metadata": {
        "colab": {
          "base_uri": "https://localhost:8080/"
        },
        "id": "NChQkXqn5IAz",
        "outputId": "b18e7914-ded3-4cc6-bba8-5af7e72ca571"
      },
      "execution_count": 3,
      "outputs": [
        {
          "output_type": "stream",
          "name": "stdout",
          "text": [
            "El día sábado ganó la U\n",
            "2+2\n"
          ]
        }
      ]
    },
    {
      "cell_type": "code",
      "source": [
        "int , float \n",
        "string\n",
        "boolean\n"
      ],
      "metadata": {
        "id": "hAJOElil5oQa"
      },
      "execution_count": null,
      "outputs": []
    },
    {
      "cell_type": "code",
      "source": [
        "print (\"El día sábado ganó la U,\",\"El día domingo perdió Alianza,\",\"El domingo empató Cristal\")"
      ],
      "metadata": {
        "colab": {
          "base_uri": "https://localhost:8080/"
        },
        "id": "M9fNrdx15wG9",
        "outputId": "97f0c493-6553-406d-b7a1-285e309ef690"
      },
      "execution_count": 11,
      "outputs": [
        {
          "output_type": "stream",
          "name": "stdout",
          "text": [
            "El día sábado ganó la U, El día domingo perdió Alianza, El domingo empató Cristal\n"
          ]
        }
      ]
    },
    {
      "cell_type": "code",
      "source": [
        "print (\"El día sábado ganó la U\",\"El día domingo perdió Alianza\",\"El domingo empató Cristal\",sep=\", \")"
      ],
      "metadata": {
        "colab": {
          "base_uri": "https://localhost:8080/"
        },
        "id": "-C_PSeL06L-V",
        "outputId": "bbc71613-bf44-4925-8687-e304dd8f86d8"
      },
      "execution_count": 12,
      "outputs": [
        {
          "output_type": "stream",
          "name": "stdout",
          "text": [
            "El día sábado ganó la U, El día domingo perdió Alianza, El domingo empató Cristal\n"
          ]
        }
      ]
    },
    {
      "cell_type": "code",
      "source": [
        "print (\"Esta es mi opiniòn sobre la película Creed III\", \"¡Me parece que tuvo un malísimo final\", sep=\":\",end=\"!\")"
      ],
      "metadata": {
        "colab": {
          "base_uri": "https://localhost:8080/"
        },
        "id": "DCRDx0C47Ddo",
        "outputId": "43509055-25db-46ad-eaad-5df759ad098a"
      },
      "execution_count": 15,
      "outputs": [
        {
          "output_type": "stream",
          "name": "stdout",
          "text": [
            "Esta es mi opiniòn sobre la película Creed III:¡Me parece que tuvo un malísimo final!"
          ]
        }
      ]
    },
    {
      "cell_type": "code",
      "source": [
        "print (\"El día sábado ganó la U\",\"El día domingo perdió Alianza\",\"El domingo empató Cristal\",sep=\", \") \n",
        "#alvaro dijo que el sep es para separar las frases\n"
      ],
      "metadata": {
        "colab": {
          "base_uri": "https://localhost:8080/",
          "height": 133
        },
        "id": "NcB06iyq72X_",
        "outputId": "aa803e5e-390b-4e42-ba3e-363d93d646b8"
      },
      "execution_count": 18,
      "outputs": [
        {
          "output_type": "error",
          "ename": "SyntaxError",
          "evalue": "ignored",
          "traceback": [
            "\u001b[0;36m  File \u001b[0;32m\"<ipython-input-18-90f21be957b8>\"\u001b[0;36m, line \u001b[0;32m2\u001b[0m\n\u001b[0;31m    alvaro dijo que el sep es para separar las frases\u001b[0m\n\u001b[0m           ^\u001b[0m\n\u001b[0;31mSyntaxError\u001b[0m\u001b[0;31m:\u001b[0m invalid syntax\n"
          ]
        }
      ]
    },
    {
      "cell_type": "code",
      "source": [
        "# TIPOS DE DATOS\n",
        "\n",
        "# int: números enteros: 8,-1,3,-5,10\n",
        "# float: números decimales: 2.1,3.4,-1.7,-5.6\n",
        "# boolean: tienen dos resultados: TRUE or FALSE\n",
        "# string: variables texto: \"futbol\",\"reloj\",\"tomatodo\", \"Batman\""
      ],
      "metadata": {
        "id": "79Wa2SjB8Pfj"
      },
      "execution_count": null,
      "outputs": []
    },
    {
      "cell_type": "code",
      "source": [
        "# int/integer\n",
        "x=2+3\n",
        "seis=2+4\n",
        "\n",
        "print(x)\n",
        "print(seis)\n",
        "\n",
        "\n",
        "y=5-6 # resta\n",
        "z=2*3 # multiplicacion\n",
        "a=4/2 # division\n",
        "b=2**3 # potencia, 2 al cubo\n",
        "print(b)\n",
        "type(y)\n"
      ],
      "metadata": {
        "colab": {
          "base_uri": "https://localhost:8080/"
        },
        "id": "Ffk0yQCo9BRy",
        "outputId": "a612334e-5d2a-4523-ca08-319504af3a02"
      },
      "execution_count": 34,
      "outputs": [
        {
          "output_type": "stream",
          "name": "stdout",
          "text": [
            "5\n",
            "6\n",
            "8\n"
          ]
        },
        {
          "output_type": "execute_result",
          "data": {
            "text/plain": [
              "int"
            ]
          },
          "metadata": {},
          "execution_count": 34
        }
      ]
    },
    {
      "cell_type": "code",
      "source": [],
      "metadata": {
        "colab": {
          "base_uri": "https://localhost:8080/"
        },
        "id": "ODZNeWjDCaJ7",
        "outputId": "5bec1473-b09b-419b-def5-05917c727e10"
      },
      "execution_count": 35,
      "outputs": [
        {
          "output_type": "execute_result",
          "data": {
            "text/plain": [
              "int"
            ]
          },
          "metadata": {},
          "execution_count": 35
        }
      ]
    },
    {
      "cell_type": "code",
      "source": [
        "# float\n",
        "x= 1.3+1\n",
        "y=2.5+2\n",
        "z=7/2\n",
        "\n",
        "print(x,y,z)\n",
        "\n",
        "\n",
        "print(type(x),type(y))\n",
        "\n",
        "\n"
      ],
      "metadata": {
        "colab": {
          "base_uri": "https://localhost:8080/"
        },
        "id": "psFOiPcmCBo6",
        "outputId": "f19b80c4-9dfd-4478-9f52-8637156f1767"
      },
      "execution_count": 39,
      "outputs": [
        {
          "output_type": "stream",
          "name": "stdout",
          "text": [
            "2.3 4.5 3.5\n",
            "<class 'float'> <class 'float'>\n"
          ]
        }
      ]
    },
    {
      "cell_type": "code",
      "source": [
        "# El cociente de la division\n",
        "x=5//2 # es para calcular el cociente de la div\n",
        "y=5%2 # el residudo de la div\n",
        "print(x,y)\n",
        "\n",
        "\n",
        "x+y\n"
      ],
      "metadata": {
        "colab": {
          "base_uri": "https://localhost:8080/"
        },
        "id": "HXlNhiXpA0lS",
        "outputId": "219e8f09-e57d-421c-f988-cb08ba0a938a"
      },
      "execution_count": 49,
      "outputs": [
        {
          "output_type": "stream",
          "name": "stdout",
          "text": [
            "2 1\n"
          ]
        },
        {
          "output_type": "execute_result",
          "data": {
            "text/plain": [
              "3"
            ]
          },
          "metadata": {},
          "execution_count": 49
        }
      ]
    },
    {
      "cell_type": "code",
      "source": [
        "# Boolean\n",
        "\n",
        "c='Auto'\n",
        "d='auto'\n",
        "\n",
        "\n",
        "condicion = c==d # C ES IGUAL A D? // == significa igual a\n",
        "\n",
        "print(condicion)\n",
        "\n",
        "\n",
        "\n",
        "condicion1 = c!=d # C ES IGUAL A D? // != significa diferente de \n",
        "print(condicion1)\n",
        "\n",
        "type(condicion1)"
      ],
      "metadata": {
        "colab": {
          "base_uri": "https://localhost:8080/"
        },
        "id": "IFCH5g45Dz07",
        "outputId": "15670bf2-b80f-416d-cd2e-61ad920d5b9a"
      },
      "execution_count": 48,
      "outputs": [
        {
          "output_type": "stream",
          "name": "stdout",
          "text": [
            "False\n",
            "True\n"
          ]
        },
        {
          "output_type": "execute_result",
          "data": {
            "text/plain": [
              "bool"
            ]
          },
          "metadata": {},
          "execution_count": 48
        }
      ]
    }
  ]
}
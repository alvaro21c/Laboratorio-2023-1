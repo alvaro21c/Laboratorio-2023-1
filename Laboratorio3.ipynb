{
  "nbformat": 4,
  "nbformat_minor": 0,
  "metadata": {
    "colab": {
      "provenance": [],
      "authorship_tag": "ABX9TyNpgjxONBFVa7rCgX9OSLiD",
      "include_colab_link": true
    },
    "kernelspec": {
      "name": "python3",
      "display_name": "Python 3"
    },
    "language_info": {
      "name": "python"
    }
  },
  "cells": [
    {
      "cell_type": "markdown",
      "metadata": {
        "id": "view-in-github",
        "colab_type": "text"
      },
      "source": [
        "<a href=\"https://colab.research.google.com/github/alvaro21c/Laboratorio-2023-1/blob/main/Laboratorio3.ipynb\" target=\"_parent\"><img src=\"https://colab.research.google.com/assets/colab-badge.svg\" alt=\"Open In Colab\"/></a>"
      ]
    },
    {
      "cell_type": "code",
      "execution_count": null,
      "metadata": {
        "id": "fVU2ocnhyI2o"
      },
      "outputs": [],
      "source": [
        "# Funciones\n",
        "def cuadrado (x,y):\n",
        "  area=x*y\n",
        "  return area\n"
      ]
    },
    {
      "cell_type": "code",
      "source": [
        "# Probar la funcion\n",
        "cuadrado (27,27) \n",
        "x=25\n",
        "y=25\n",
        "print(cuadrado(x,y))"
      ],
      "metadata": {
        "colab": {
          "base_uri": "https://localhost:8080/"
        },
        "id": "rRijk1MJzRHt",
        "outputId": "3404dc43-29d1-44d7-febe-378465e8ec7b"
      },
      "execution_count": null,
      "outputs": [
        {
          "output_type": "stream",
          "name": "stdout",
          "text": [
            "625\n"
          ]
        }
      ]
    },
    {
      "cell_type": "code",
      "source": [
        "def mayor (x,y):\n",
        "  ''' Compara dos valores e indica si el primer argumento es mayor o menor que\n",
        "  el segundo argumento indicando True o False'''\n",
        "  if x>y:\n",
        "    return True\n",
        "  else:\n",
        "    return False\n"
      ],
      "metadata": {
        "id": "pXno1mkVzaiL"
      },
      "execution_count": null,
      "outputs": []
    },
    {
      "cell_type": "code",
      "source": [
        "help (mayor)"
      ],
      "metadata": {
        "colab": {
          "base_uri": "https://localhost:8080/"
        },
        "id": "qktTTWhs0kKg",
        "outputId": "60e3caa4-6e6b-47ed-e6ca-1691342f55d7"
      },
      "execution_count": null,
      "outputs": [
        {
          "output_type": "stream",
          "name": "stdout",
          "text": [
            "Help on function mayor in module __main__:\n",
            "\n",
            "mayor(x, y)\n",
            "    Compara dos valores e indica si el primer argumento es mayor o menor que\n",
            "    el segundo argumento indicando True o False\n",
            "\n"
          ]
        }
      ]
    },
    {
      "cell_type": "code",
      "source": [
        "mayor (2,3)"
      ],
      "metadata": {
        "colab": {
          "base_uri": "https://localhost:8080/"
        },
        "id": "wt-jq7Go0vAo",
        "outputId": "20e24590-9244-4da6-a899-bd21338d5fd5"
      },
      "execution_count": null,
      "outputs": [
        {
          "output_type": "execute_result",
          "data": {
            "text/plain": [
              "False"
            ]
          },
          "metadata": {},
          "execution_count": 7
        }
      ]
    },
    {
      "cell_type": "code",
      "source": [
        "# Crear una funcion agregue en una lista valores unicos.\n",
        "a= [1,2,2,2,2,2,2,2,3,3,3,3,3,4,5,6]\n",
        "x=[1,2,3,4,5,6]\n",
        "\n",
        "\n",
        "# Ayuda\n",
        "1. Crear x como lista vacia\n",
        "2. Utilizar una iteracion \n",
        "3. La iteracion lo que tiene que hacer es verificar si el elemento ya se encuentra en x o no\n",
        "4. return x\n",
        "\n",
        "y in a # esta en la lista\n",
        "y not in a # no esta en la lista\n",
        "\n",
        "\n"
      ],
      "metadata": {
        "id": "xi_74VRu1bGb"
      },
      "execution_count": null,
      "outputs": []
    },
    {
      "cell_type": "code",
      "source": [
        "# LA LIBRERIA NUMPY\n",
        "# PERMITE UTILIZAR FUNCIONES DE N/DIMENSIONES QUE COLECCIONA DATOS DE UN MISMO TIPO O DIFERENTE\n",
        "import numpy as np # importar la lib\n"
      ],
      "metadata": {
        "id": "ls16c8Hx-V3b"
      },
      "execution_count": null,
      "outputs": []
    },
    {
      "cell_type": "code",
      "source": [
        "m = np.array([[0,1,2],[3,4,5]]) # 2 filas y 3 columnas\n",
        "print (m)\n"
      ],
      "metadata": {
        "colab": {
          "base_uri": "https://localhost:8080/"
        },
        "id": "Zd1I8i3g_54z",
        "outputId": "1087c99f-4a3b-4ba3-c8af-f9ab369749dd"
      },
      "execution_count": null,
      "outputs": [
        {
          "output_type": "stream",
          "name": "stdout",
          "text": [
            "[[0 1 2]\n",
            " [3 4 5]]\n"
          ]
        }
      ]
    },
    {
      "cell_type": "code",
      "source": [
        "print (m.shape) # muestra las dimensiones de la matriz"
      ],
      "metadata": {
        "colab": {
          "base_uri": "https://localhost:8080/"
        },
        "id": "ggkhnDJGAfOO",
        "outputId": "8e42e205-0025-4260-d004-4430e610ab85"
      },
      "execution_count": null,
      "outputs": [
        {
          "output_type": "stream",
          "name": "stdout",
          "text": [
            "(2, 3)\n"
          ]
        }
      ]
    },
    {
      "cell_type": "code",
      "source": [
        "print(m[1]) # muestra los elementos de la 2da fila"
      ],
      "metadata": {
        "colab": {
          "base_uri": "https://localhost:8080/"
        },
        "id": "fsN9BFmNAtox",
        "outputId": "33686941-dd52-408a-edf3-f4c079a72580"
      },
      "execution_count": null,
      "outputs": [
        {
          "output_type": "stream",
          "name": "stdout",
          "text": [
            "[3 4 5]\n"
          ]
        }
      ]
    },
    {
      "cell_type": "code",
      "source": [
        "y = np.array([[0,1,2],[3,4,5],[6,7,8]])\n",
        "print (y)"
      ],
      "metadata": {
        "colab": {
          "base_uri": "https://localhost:8080/"
        },
        "id": "Tf8BekZaBGm5",
        "outputId": "1ecf7341-420f-434b-c88e-2037e37eb38f"
      },
      "execution_count": null,
      "outputs": [
        {
          "output_type": "stream",
          "name": "stdout",
          "text": [
            "[[0 1 2]\n",
            " [3 4 5]\n",
            " [6 7 8]]\n"
          ]
        }
      ]
    },
    {
      "cell_type": "code",
      "source": [
        "print (y[:,2]) # muestra los elementos de la columna 3.\n",
        "\n",
        "print(y[0:2,1]) # solo extrale la fila 0 y la fila 1 mas la columna 2\n",
        "\n",
        "\n",
        "print(y[1:,1]) # extrae todas las filas desde 1 y los elementos de la columna 1\n",
        " "
      ],
      "metadata": {
        "colab": {
          "base_uri": "https://localhost:8080/"
        },
        "id": "Q6cxXojFBY7q",
        "outputId": "c81b3464-dfc6-4c8f-8291-15aeab64f94e"
      },
      "execution_count": null,
      "outputs": [
        {
          "output_type": "stream",
          "name": "stdout",
          "text": [
            "[2 5 8]\n",
            "[1 4]\n",
            "[4 7]\n"
          ]
        }
      ]
    },
    {
      "cell_type": "code",
      "source": [
        "# matriz de ceros\n",
        "x = np.zeros((2,2)) # matriz 2x2\n",
        "print(x)"
      ],
      "metadata": {
        "colab": {
          "base_uri": "https://localhost:8080/"
        },
        "id": "t3b0uJ2TDl8_",
        "outputId": "79e73935-72d8-4607-9756-93a6882a3031"
      },
      "execution_count": null,
      "outputs": [
        {
          "output_type": "stream",
          "name": "stdout",
          "text": [
            "[[0. 0.]\n",
            " [0. 0.]]\n"
          ]
        }
      ]
    },
    {
      "cell_type": "code",
      "source": [
        "# matriz de puros unos\n",
        "x = np.ones((2,2)) # matriz 2x2\n",
        "print (x)"
      ],
      "metadata": {
        "colab": {
          "base_uri": "https://localhost:8080/"
        },
        "id": "mQoSWDULD2B8",
        "outputId": "53e7e38d-62b8-4877-8905-be7e5c6601d0"
      },
      "execution_count": null,
      "outputs": [
        {
          "output_type": "stream",
          "name": "stdout",
          "text": [
            "[[1. 1.]\n",
            " [1. 1.]]\n"
          ]
        }
      ]
    },
    {
      "cell_type": "code",
      "source": [
        "x=np.full((2,2),7)  # matriz 2x2\n",
        "print (x)"
      ],
      "metadata": {
        "colab": {
          "base_uri": "https://localhost:8080/"
        },
        "id": "mKc8-Ww0D878",
        "outputId": "2a11c8cd-7a80-465e-dd33-803ff043afd2"
      },
      "execution_count": null,
      "outputs": [
        {
          "output_type": "stream",
          "name": "stdout",
          "text": [
            "[[7 7]\n",
            " [7 7]]\n"
          ]
        }
      ]
    },
    {
      "cell_type": "code",
      "source": [
        "x = np.random.random((2,2))\n",
        "print (x)"
      ],
      "metadata": {
        "colab": {
          "base_uri": "https://localhost:8080/"
        },
        "id": "0cP6vp1rEH9Y",
        "outputId": "eb87b184-a3c8-4fb5-c4fc-21b27af45b8c"
      },
      "execution_count": null,
      "outputs": [
        {
          "output_type": "stream",
          "name": "stdout",
          "text": [
            "[[0.74207952 0.93307538]\n",
            " [0.83275632 0.03177905]]\n"
          ]
        }
      ]
    },
    {
      "cell_type": "code",
      "source": [
        "# COPIAR Y VINCULAR\n",
        "x=m # lo que he hecho es vincular la matriz.\n",
        "print (x)"
      ],
      "metadata": {
        "colab": {
          "base_uri": "https://localhost:8080/"
        },
        "id": "hu4KG95iEafy",
        "outputId": "bd7c0bca-f944-455e-b87c-2ca1a944ccd1"
      },
      "execution_count": null,
      "outputs": [
        {
          "output_type": "stream",
          "name": "stdout",
          "text": [
            "[[0 1 2]\n",
            " [3 4 5]]\n"
          ]
        }
      ]
    },
    {
      "cell_type": "code",
      "source": [
        "m[0,1]=9\n",
        "print (m)\n",
        "print (x)"
      ],
      "metadata": {
        "colab": {
          "base_uri": "https://localhost:8080/"
        },
        "id": "77ovXpB_Emf3",
        "outputId": "f71db048-d7bf-4e81-bfb7-2f54d5a82926"
      },
      "execution_count": null,
      "outputs": [
        {
          "output_type": "stream",
          "name": "stdout",
          "text": [
            "[[0 9 2]\n",
            " [3 4 5]]\n"
          ]
        }
      ]
    },
    {
      "cell_type": "code",
      "source": [
        "x=m.copy()\n",
        "print(x)\n",
        "\n",
        "m[0,1]=1\n",
        "print(x)"
      ],
      "metadata": {
        "colab": {
          "base_uri": "https://localhost:8080/"
        },
        "id": "Kdy_A9mdE2d6",
        "outputId": "21bbc57a-841e-4a48-89f3-a402b1e05c16"
      },
      "execution_count": null,
      "outputs": [
        {
          "output_type": "stream",
          "name": "stdout",
          "text": [
            "[[0 9 2]\n",
            " [3 4 5]]\n",
            "[[0 9 2]\n",
            " [3 4 5]]\n"
          ]
        }
      ]
    },
    {
      "cell_type": "code",
      "source": [
        "# Operaciones matematicas\n",
        "# Suma\n",
        "a = np.array([[1,2],[3,4]])\n",
        "b = np.array([[5,6],[7,8]])\n",
        "\n",
        "print (a+b)\n",
        "print (np.add(a,b))\n"
      ],
      "metadata": {
        "colab": {
          "base_uri": "https://localhost:8080/"
        },
        "id": "-gE1Bd4UFRrc",
        "outputId": "79713319-69f5-4a99-ba15-b9184159c263"
      },
      "execution_count": null,
      "outputs": [
        {
          "output_type": "stream",
          "name": "stdout",
          "text": [
            "[[ 6  8]\n",
            " [10 12]]\n",
            "[[ 6  8]\n",
            " [10 12]]\n"
          ]
        }
      ]
    },
    {
      "cell_type": "code",
      "source": [
        "print (a-b)\n",
        "print (np.subtract(a,b))"
      ],
      "metadata": {
        "colab": {
          "base_uri": "https://localhost:8080/"
        },
        "id": "dkUQUkJiFweB",
        "outputId": "41088bf0-5597-44da-9c53-a0fb62b0ae2d"
      },
      "execution_count": null,
      "outputs": [
        {
          "output_type": "stream",
          "name": "stdout",
          "text": [
            "[[-4 -4]\n",
            " [-4 -4]]\n",
            "[[-4 -4]\n",
            " [-4 -4]]\n"
          ]
        }
      ]
    },
    {
      "cell_type": "code",
      "source": [
        "print (a/b)\n",
        "print (np.divide(a,b))"
      ],
      "metadata": {
        "colab": {
          "base_uri": "https://localhost:8080/"
        },
        "id": "EeeOWzU6F1oh",
        "outputId": "1f8fd276-55a8-4800-939b-5716d364a87f"
      },
      "execution_count": null,
      "outputs": [
        {
          "output_type": "stream",
          "name": "stdout",
          "text": [
            "[[0.2        0.33333333]\n",
            " [0.42857143 0.5       ]]\n",
            "[[0.2        0.33333333]\n",
            " [0.42857143 0.5       ]]\n"
          ]
        }
      ]
    },
    {
      "cell_type": "code",
      "source": [
        "print (a*b)\n",
        "print (np.sqrt(a))\n",
        "print (np.sqrt(b))"
      ],
      "metadata": {
        "colab": {
          "base_uri": "https://localhost:8080/"
        },
        "id": "x-3p1v6qF5_R",
        "outputId": "08b8a445-8ab8-44f3-e376-76a566aa04e6"
      },
      "execution_count": null,
      "outputs": [
        {
          "output_type": "stream",
          "name": "stdout",
          "text": [
            "[[ 5 12]\n",
            " [21 32]]\n",
            "[[1.         1.41421356]\n",
            " [1.73205081 2.        ]]\n",
            "[[2.23606798 2.44948974]\n",
            " [2.64575131 2.82842712]]\n"
          ]
        }
      ]
    },
    {
      "cell_type": "code",
      "source": [
        "# Reshaping\n",
        "x=np.arange(8)\n",
        "print(x)\n",
        "\n",
        "y=np.reshape(x,(2,4))\n",
        "print (y)\n",
        "\n",
        "z=np.array([[0,1],[3,4],[6,7]])\n",
        "print(z)\n",
        "b=np.reshape(z,(2,3))\n",
        "print (b)"
      ],
      "metadata": {
        "colab": {
          "base_uri": "https://localhost:8080/"
        },
        "id": "UviurcvdGH29",
        "outputId": "b0398f50-ebcc-4a5e-f0bc-206343da9db4"
      },
      "execution_count": null,
      "outputs": [
        {
          "output_type": "stream",
          "name": "stdout",
          "text": [
            "[0 1 2 3 4 5 6 7]\n",
            "[[0 1 2 3]\n",
            " [4 5 6 7]]\n",
            "[[0 1]\n",
            " [3 4]\n",
            " [6 7]]\n",
            "[[0 1 3]\n",
            " [4 6 7]]\n"
          ]
        }
      ]
    },
    {
      "cell_type": "code",
      "source": [
        "x = np.array([[0,1,2],[3,4,5],[6,7,8]])\n",
        "#x = np.array([[1,-2,3],[4,5,6],[7,8,-9]])\n",
        "print(x)\n",
        "print(x.min())\n",
        "print(x.max())\n",
        "\n",
        "print(x.min(axis=0)) # axis 0 es columna, y axis 1 es fila\n",
        "print(x.max(axis=1)) \n",
        "\n"
      ],
      "metadata": {
        "colab": {
          "base_uri": "https://localhost:8080/"
        },
        "id": "AuLje5EsHMBd",
        "outputId": "e7f134c3-2a25-4fd1-d63a-956f537d7cad"
      },
      "execution_count": null,
      "outputs": [
        {
          "output_type": "stream",
          "name": "stdout",
          "text": [
            "[[0 1 2]\n",
            " [3 4 5]\n",
            " [6 7 8]]\n",
            "0\n",
            "8\n",
            "[0 1 2]\n",
            "[2 5 8]\n"
          ]
        }
      ]
    },
    {
      "cell_type": "code",
      "source": [
        "print(np.sum(x))\n",
        "print(np.sum(x,axis=1))\n",
        "print(np.mean(x))\n",
        "print(np.mean(x,axis=0))\n",
        "print(np.var(x))"
      ],
      "metadata": {
        "colab": {
          "base_uri": "https://localhost:8080/"
        },
        "id": "JY0SFVqWIKQt",
        "outputId": "a99847d5-06ce-4cb4-b308-0f9f685a55f0"
      },
      "execution_count": null,
      "outputs": [
        {
          "output_type": "stream",
          "name": "stdout",
          "text": [
            "36\n",
            "[ 3 12 21]\n",
            "4.0\n",
            "[3. 4. 5.]\n",
            "6.666666666666667\n"
          ]
        }
      ]
    }
  ]
}